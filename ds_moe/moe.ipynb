{
 "cells": [
  {
   "cell_type": "code",
   "execution_count": 1,
   "metadata": {},
   "outputs": [],
   "source": [
    "import torch\n",
    "import torch.nn as nn\n",
    "import torch.nn.functional as F"
   ]
  },
  {
   "cell_type": "markdown",
   "metadata": {},
   "source": [
    "在正式了解 Deepseek MoE 之前，我们先来了解一下 传统的 Mixture of Experts (MoE) 模型是怎么做的。\n",
    "\n",
    "moe模型的专家就是一个个MLP模型，mlp 的输入维度和输出维度是一样的。"
   ]
  },
  {
   "cell_type": "code",
   "execution_count": 4,
   "metadata": {},
   "outputs": [
    {
     "data": {
      "text/plain": [
       "torch.Size([64, 128])"
      ]
     },
     "execution_count": 4,
     "metadata": {},
     "output_type": "execute_result"
    }
   ],
   "source": [
    "class MLP(nn.Module):\n",
    "    def __init__(self, dim: int, hidden_dim: int, dropout: float = 0.):\n",
    "        super().__init__()\n",
    "        # 定义第一层线性变换，从输入维度到隐藏维度\n",
    "        self.w1 = nn.Linear(dim, hidden_dim, bias=False)\n",
    "        # 定义第二层线性变换，从隐藏维度到输入维度\n",
    "        self.w2 = nn.Linear(hidden_dim, dim, bias=False)\n",
    "        # 定义第三层线性变换，从输入维度到隐藏维度\n",
    "        self.w3 = nn.Linear(dim, hidden_dim, bias=False)\n",
    "        # 定义dropout层，用于防止过拟合\n",
    "        self.dropout = nn.Dropout(dropout)\n",
    "\n",
    "    def forward(self, x):\n",
    "        return self.dropout(self.w2(F.silu(self.w1(x)) * self.w3(x)))\n",
    "    \n",
    "mlp_model = MLP(128, 512)\n",
    "\n",
    "input_tensor = torch.randn(64, 128)\n",
    "output_tensor = mlp_model(input_tensor)\n",
    "output_tensor.shape"
   ]
  },
  {
   "cell_type": "code",
   "execution_count": 6,
   "metadata": {},
   "outputs": [
    {
     "name": "stdout",
     "output_type": "stream",
     "text": [
      "gate_logits.shape =  torch.Size([64, 4])\n",
      "gate_probs.shape =  torch.Size([64, 4])\n",
      "expert_outputs.shape =  torch.Size([64, 4, 128])\n"
     ]
    },
    {
     "data": {
      "text/plain": [
       "torch.Size([64, 128])"
      ]
     },
     "execution_count": 6,
     "metadata": {},
     "output_type": "execute_result"
    }
   ],
   "source": [
    "class MoE(nn.Module):\n",
    "    def __init__(self, num_experts: int, dim: int, hidden_dim: int, dropout: float = 0.):\n",
    "        super().__init__()\n",
    "        self.num_experts = num_experts\n",
    "        self.experts = nn.ModuleList([MLP(dim, hidden_dim, dropout) for _ in range(num_experts)])\n",
    "        self.gate = nn.Linear(dim, num_experts)\n",
    "\n",
    "    def forward(self, x):\n",
    "        # x.shape = (batch_size, dim)\n",
    "        gate_logits = self.gate(x)\n",
    "        print(\"gate_logits.shape = \", gate_logits.shape)\n",
    "        # gate_logits.shape = (batch_size, num_experts)\n",
    "        gate_probs = F.softmax(gate_logits, dim=-1)\n",
    "        print(\"gate_probs.shape = \", gate_probs.shape)\n",
    "        # gate_probs.shape = (batch_size, num_experts)\n",
    "        expert_outputs = torch.stack([expert(x) for expert in self.experts], dim=1)\n",
    "        print(\"expert_outputs.shape = \", expert_outputs.shape)\n",
    "        # expert_outputs.shape = (batch_size, num_experts, dim)\n",
    "        return torch.sum(gate_probs.unsqueeze(-1) * expert_outputs, dim=1)\n",
    "\n",
    "moe_model = MoE(4, 128, 512)\n",
    "x = torch.randn(64, 128)\n",
    "y = moe_model(x)\n",
    "y.shape"
   ]
  },
  {
   "cell_type": "code",
   "execution_count": null,
   "metadata": {},
   "outputs": [],
   "source": []
  }
 ],
 "metadata": {
  "kernelspec": {
   "display_name": "nlp",
   "language": "python",
   "name": "python3"
  },
  "language_info": {
   "codemirror_mode": {
    "name": "ipython",
    "version": 3
   },
   "file_extension": ".py",
   "mimetype": "text/x-python",
   "name": "python",
   "nbconvert_exporter": "python",
   "pygments_lexer": "ipython3",
   "version": "3.10.13"
  }
 },
 "nbformat": 4,
 "nbformat_minor": 2
}
