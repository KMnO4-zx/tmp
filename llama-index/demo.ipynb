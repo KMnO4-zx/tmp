{
 "cells": [
  {
   "cell_type": "code",
   "execution_count": 6,
   "metadata": {},
   "outputs": [],
   "source": [
    "import os\n",
    "from dotenv import load_dotenv, find_dotenv\n",
    "from llama_index import VectorStoreIndex, SimpleDirectoryReader\n",
    "_ = load_dotenv(find_dotenv())"
   ]
  },
  {
   "cell_type": "code",
   "execution_count": 7,
   "metadata": {},
   "outputs": [
    {
     "name": "stderr",
     "output_type": "stream",
     "text": [
      "Multiple definitions in dictionary at byte 0xf93db for key /MediaBox\n",
      "Multiple definitions in dictionary at byte 0xdbf76 for key /MediaBox\n",
      "Multiple definitions in dictionary at byte 0xeaa9 for key /MediaBox\n",
      "Multiple definitions in dictionary at byte 0x21a1b for key /GSP1\n",
      "Multiple definitions in dictionary at byte 0x21bc8 for key /GSP1\n",
      "Multiple definitions in dictionary at byte 0x21db1 for key /GSP1\n",
      "Multiple definitions in dictionary at byte 0x21f9a for key /GSP1\n",
      "Multiple definitions in dictionary at byte 0x221d8 for key /GSP1\n",
      "Multiple definitions in dictionary at byte 0x223c5 for key /GSP1\n",
      "Multiple definitions in dictionary at byte 0x2256c for key /GSP1\n",
      "Multiple definitions in dictionary at byte 0x2272c for key /GSP1\n"
     ]
    }
   ],
   "source": [
    "documents = SimpleDirectoryReader(\"./data\").load_data()\n",
    "index = VectorStoreIndex.from_documents(documents)"
   ]
  },
  {
   "cell_type": "code",
   "execution_count": 11,
   "metadata": {},
   "outputs": [
    {
     "name": "stdout",
     "output_type": "stream",
     "text": [
      "I'm sorry, but I cannot provide an answer to your query as there is no information given in the context about \"deepspeek\".\n"
     ]
    }
   ],
   "source": [
    "query_engine = index.as_query_engine()\n",
    "response = query_engine.query(\"deepspeek是什么？\")\n",
    "print(response)"
   ]
  },
  {
   "cell_type": "code",
   "execution_count": 12,
   "metadata": {},
   "outputs": [],
   "source": [
    "index.storage_context.persist()"
   ]
  },
  {
   "cell_type": "code",
   "execution_count": 17,
   "metadata": {},
   "outputs": [
    {
     "name": "stdout",
     "output_type": "stream",
     "text": [
      "transformers是一个Python库，用于自然语言处理（NLP）中的深度学习模型。它提供了各种预训练模型，包括文本分类、命名实体识别、问答系统等任务。该库还提供了用于加载、保存和使用这些预训练模型的工具和函数。\n"
     ]
    }
   ],
   "source": [
    "from llama_index.indices.postprocessor import LLMRerank\n",
    "from llama_index.retrievers import VectorIndexRetriever, BaseRetriever\n",
    "from llama_index.query_engine import RetrieverQueryEngine\n",
    "from llama_index import ServiceContext, get_response_synthesizer\n",
    "from llama_index.indices.query.schema import QueryBundle\n",
    "\n",
    "# 创建自定义检索器\n",
    "class LLMRerankRetriever(BaseRetriever):\n",
    "    def __init__(self, vector_retriever: VectorIndexRetriever, service_context: ServiceContext):\n",
    "        self._vector_retriever = vector_retriever\n",
    "        self._service_context = service_context\n",
    "        super().__init__()\n",
    "\n",
    "    def _retrieve(self, query_bundle: QueryBundle):\n",
    "        retrieved_nodes = self._vector_retriever.retrieve(query_bundle)\n",
    "        reranker = LLMRerank(service_context=self._service_context)\n",
    "        retrieved_nodes = reranker.postprocess_nodes(retrieved_nodes, query_bundle)\n",
    "        return retrieved_nodes\n",
    "\n",
    "# 创建自定义检索器实例\n",
    "vector_retriever = VectorIndexRetriever(index=index, similarity_top_k=3)\n",
    "custom_retriever = LLMRerankRetriever(vector_retriever, ServiceContext.from_defaults())\n",
    "\n",
    "# 创建自定义查询引擎\n",
    "response_synthesizer = get_response_synthesizer()\n",
    "custom_query_engine = RetrieverQueryEngine(retriever=custom_retriever, response_synthesizer=response_synthesizer)\n",
    "\n",
    "# 查询\n",
    "query = \"transformers是什么？\"\n",
    "results = custom_query_engine.query(query)\n",
    "print(results.response)"
   ]
  }
 ],
 "metadata": {
  "kernelspec": {
   "display_name": "metagpt",
   "language": "python",
   "name": "python3"
  },
  "language_info": {
   "codemirror_mode": {
    "name": "ipython",
    "version": 3
   },
   "file_extension": ".py",
   "mimetype": "text/x-python",
   "name": "python",
   "nbconvert_exporter": "python",
   "pygments_lexer": "ipython3",
   "version": "3.10.13"
  }
 },
 "nbformat": 4,
 "nbformat_minor": 2
}
