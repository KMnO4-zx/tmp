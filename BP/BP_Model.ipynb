{
 "cells": [
  {
   "cell_type": "code",
   "execution_count": 15,
   "metadata": {},
   "outputs": [],
   "source": [
    "# 导入 PyTorch 库\n",
    "import torch\n",
    "# 导入 PyTorch 神经网络模块，用于构建和训练神经网络\n",
    "import torch.nn as nn\n",
    "# 导入 NumPy 库，用于处理数组和矩阵\n",
    "import numpy as np"
   ]
  },
  {
   "cell_type": "code",
   "execution_count": 16,
   "metadata": {},
   "outputs": [],
   "source": [
    "# 提供的销量数据\n",
    "sales_data = np.array([2056, 2395, 2600, 2298, 1634, 1600, 1873, 1478, 1900, 1500, 2046, 1556])\n",
    "# 计算销量数据的平均值\n",
    "mean = np.mean(sales_data)\n",
    "# 计算销量数据的标准差\n",
    "std = np.std(sales_data)\n",
    "# 对销量数据进行标准化处理，即将每个数据减去平均值并除以标准差\n",
    "normalized_sales_data = (sales_data - mean) / std"
   ]
  },
  {
   "cell_type": "code",
   "execution_count": 17,
   "metadata": {},
   "outputs": [],
   "source": [
    "# 准备数据\n",
    "def prepare_data(data, window_size):\n",
    "    X, Y = [], [] # 初始化两个空列表用于存储输入和输出的数据\n",
    "    for i in range(len(data) - window_size): # 遍历数据的长度减去窗口大小的范围\n",
    "        X.append(data[i:i+window_size]) # 将当前数据作为输入添加到X列表中\n",
    "        Y.append(data[i+window_size]) # 将当前数据作为输出添加到Y列表中\n",
    "    return np.array(X), np.array(Y) # 将X和Y转换为NumPy数组并返回"
   ]
  },
  {
   "cell_type": "code",
   "execution_count": 18,
   "metadata": {},
   "outputs": [],
   "source": [
    "# 定义模型\n",
    "class BP_Model(nn.Module):\n",
    "    def __init__(self):\n",
    "        super(BP_Model, self).__init__() # 调用父类的初始化方法\n",
    "        self.fc1 = nn.Linear(3, 5)  # 定义一个全连接层，输入维度为3,输出维度为5\n",
    "        self.fc2 = nn.Linear(5, 1)  # 定义一个全连接层，输入维度为5,输出维度为1\n",
    "\n",
    "    def forward(self, x):\n",
    "        x = torch.tanh(self.fc1(x))  # 将输入数据传入第一个全连接层，并使用tansig激活函数处理后得到隐藏层输出\n",
    "        x = torch.sigmoid(self.fc2(x))  # 将隐藏层输出传入第二个全连接层，并使用logsis激活函数处理后得到最终输出\n",
    "        return x"
   ]
  },
  {
   "cell_type": "code",
   "execution_count": 19,
   "metadata": {},
   "outputs": [],
   "source": [
    "# 准备数据\n",
    "window_size = 3  # 定义窗口大小为3\n",
    "X, Y = prepare_data(normalized_sales_data, window_size)  # 调用prepare_data函数，对数据进行处理，得到特征矩阵X和标签向量Y\n",
    "X_train = torch.FloatTensor(X)  # 将特征矩阵X转换成PyTorch的浮点型张量\n",
    "Y_train = torch.FloatTensor(Y).view(-1, 1)  # 将标签向量Y转换成PyTorch的浮点型张量，并将其reshape成列向量"
   ]
  },
  {
   "cell_type": "code",
   "execution_count": 20,
   "metadata": {},
   "outputs": [],
   "source": [
    "# 初始化模型和优化器\n",
    "model = BP_Model()  # 创建BP_Model类的实例对象，即定义了一个神经网络模型\n",
    "optimizer = torch.optim.Adam(model.parameters(), lr=0.001)  # 使用Adam算法对模型进行优化，学习率为0.001\n",
    "loss_fn = nn.MSELoss()  # 使用均方误差作为损失函数"
   ]
  },
  {
   "cell_type": "code",
   "execution_count": 21,
   "metadata": {},
   "outputs": [
    {
     "name": "stdout",
     "output_type": "stream",
     "text": [
      "Epoch 0, Loss: 1.2370641231536865\n",
      "Epoch 100, Loss: 1.0767967700958252\n",
      "Epoch 200, Loss: 0.9462615251541138\n",
      "Epoch 300, Loss: 0.8550494909286499\n",
      "Epoch 400, Loss: 0.7937139868736267\n",
      "Epoch 500, Loss: 0.7480122447013855\n",
      "Epoch 600, Loss: 0.7110133767127991\n",
      "Epoch 700, Loss: 0.6821936964988708\n",
      "Epoch 800, Loss: 0.6603491306304932\n",
      "Epoch 900, Loss: 0.6437419652938843\n",
      "Epoch 1000, Loss: 0.6309390068054199\n",
      "Epoch 1100, Loss: 0.6208440661430359\n",
      "Epoch 1200, Loss: 0.6126483678817749\n",
      "Epoch 1300, Loss: 0.6057783365249634\n",
      "Epoch 1400, Loss: 0.5998813509941101\n",
      "Epoch 1500, Loss: 0.5948161482810974\n",
      "Epoch 1600, Loss: 0.590549886226654\n",
      "Epoch 1700, Loss: 0.5870132446289062\n",
      "Epoch 1800, Loss: 0.5840850472450256\n",
      "Epoch 1900, Loss: 0.5816470384597778\n"
     ]
    }
   ],
   "source": [
    "# 训练数据\n",
    "num_epochs = 2000 # 训练周期为1200个周期\n",
    "for epoch in range(num_epochs):\n",
    "    model.train() # 将模型设置为训练模式\n",
    "    optimizer.zero_grad() # 将优化器的梯度清零\n",
    "    output = model(X_train) # 使用模型对训练数据进行预测，得到预测结果output\n",
    "    loss = loss_fn(output, Y_train) # 计算预测结果与真实值之间的均方误差损失函数loss\n",
    "    loss.backward() # 对损失函数进行反向传播，计算梯度\n",
    "    optimizer.step() # 根据梯度更新模型参数\n",
    "    \n",
    "    if epoch % 100 == 0:\n",
    "        print(f'Epoch {epoch}, Loss: {loss.item()}') # 每100个周期输出一次当前训练的epoch和损失函数值"
   ]
  },
  {
   "cell_type": "code",
   "execution_count": 22,
   "metadata": {},
   "outputs": [
    {
     "data": {
      "text/plain": [
       "2137.5996"
      ]
     },
     "execution_count": 22,
     "metadata": {},
     "output_type": "execute_result"
    }
   ],
   "source": [
    "# 获取最后三个月的规范化销量数据作为模型输入\n",
    "last_three_months = torch.FloatTensor(normalized_sales_data[-3:]).view(1, -1)  # 将最近三个月的销量数据转换为PyTorch张量，并将其reshape成一列向量\n",
    "\n",
    "# 模型预测\n",
    "model.eval()  # 设置模型为评估模式，即不更新权重\n",
    "with torch.no_grad():  # 不计算梯度，即只进行前向传播，不计算反向传播\n",
    "    normalized_prediction = model(last_three_months)  # 对输入数据进行预测，得到预测结果normalized_prediction\n",
    "\n",
    "# 反向规范化预测值\n",
    "predicted_sales = normalized_prediction.numpy() * std + mean  # 将预测结果从[-1,1]映射回原始数据域，即将其反向规范化到[0,1]之间\n",
    "predicted_sales = predicted_sales.flatten()  # 将输出转换为1D数组，便于显示和处理\n",
    "predicted_sales[0]  # 显示预测的销量值"
   ]
  }
 ],
 "metadata": {
  "kernelspec": {
   "display_name": "social",
   "language": "python",
   "name": "python3"
  },
  "language_info": {
   "codemirror_mode": {
    "name": "ipython",
    "version": 3
   },
   "file_extension": ".py",
   "mimetype": "text/x-python",
   "name": "python",
   "nbconvert_exporter": "python",
   "pygments_lexer": "ipython3",
   "version": "3.10.12"
  }
 },
 "nbformat": 4,
 "nbformat_minor": 2
}
