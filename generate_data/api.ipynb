{
 "cells": [
  {
   "cell_type": "code",
   "execution_count": 27,
   "metadata": {},
   "outputs": [],
   "source": [
    "import dashscope\n",
    "from http import HTTPStatus\n",
    "dashscope.api_key=\"\""
   ]
  },
  {
   "cell_type": "code",
   "execution_count": 28,
   "metadata": {},
   "outputs": [],
   "source": [
    "def sample_sync_call(prompt_text, model='qwen-72b-chat'):\n",
    "    resp = dashscope.Generation.call(\n",
    "        model=model,\n",
    "        prompt=prompt_text,\n",
    "        temperature=0.9,\n",
    "    )\n",
    "    # The response status_code is HTTPStatus.OK indicate success,\n",
    "    # otherwise indicate request is failed, you can get error code\n",
    "    # and message from code and message.\n",
    "    if resp.status_code == HTTPStatus.OK:\n",
    "        return resp.output['text']"
   ]
  },
  {
   "cell_type": "code",
   "execution_count": 29,
   "metadata": {},
   "outputs": [
    {
     "name": "stdout",
     "output_type": "stream",
     "text": [
      "谨以此薄礼，谢君一年援手之恩。新年将至，愿尔万事如意，岁岁平安。\n",
      "谨此新年之际，敬祝吾侪诸君，岁末贺新，万事如意。感同仁之力，携手共进，愿来年再创辉煌。\n",
      "谨以斯文，敬赠吾侪。岁末寒冬，诸君安康。过去的一年，承蒙错爱，共事愉快。新的一年，愿诸位事业有成，万事如意。\n",
      "谨以此文，致吾同僚，岁末年初，感君援手。愿新年之光，照你前程似锦，事业辉煌。共勉之，诸事顺遂，健康平安。\n",
      "谨以此函，致以新年之祝贺。同仁们共事一年，幸甚至哉。尔等之鼎力相助，铭记于心。愿新年诸事顺遂，吉祥如意。\n"
     ]
    }
   ],
   "source": [
    "for i in range(5):\n",
    "    response = sample_sync_call('给我一个文言文风格的新年祝福，送给同事的，感谢同事一年一来的帮助，要求50个字以内。')\n",
    "    print(response)"
   ]
  },
  {
   "cell_type": "code",
   "execution_count": 30,
   "metadata": {},
   "outputs": [
    {
     "name": "stdout",
     "output_type": "stream",
     "text": [
      "岁月更迭，新春来临。愿汝如花绽笑靥，似玉温润生辉。生活如意，爱情甜蜜。愿我们的故事，犹如古籍中的佳话，流传久远。\n",
      "盛世佳人，新年将至，敬祝吾爱：岁月静好，红颜不老。愿你新的一年如诗如画，福泰安康，笑口常开。\n",
      "新春佳节至，红梅傲雪开。愿你如花儿般娇媚，笑颜常在。岁月静好，只因有你陪伴。愿我们的爱情，如同这新年一样，岁岁更新，长久不衰。\n",
      "花朝月夕，如诗如画。岁月静好，惟愿卿心似我心，定不负相思意。新年将至，愿君岁岁常欢愉，年年皆胜意。\n",
      "谨以此信祝吾爱新年快乐。愿君如月，恒照我心；如星璀璨，永挂天边。岁月静好，皆因有你。\n"
     ]
    }
   ],
   "source": [
    "for i in range(5):\n",
    "    response = sample_sync_call('给我一个文言文风格的新年祝福，送给女朋友的，要求50个字以内。')\n",
    "    print(response)"
   ]
  },
  {
   "cell_type": "code",
   "execution_count": 31,
   "metadata": {},
   "outputs": [
    {
     "name": "stdout",
     "output_type": "stream",
     "text": [
      "敬爱之师，新年将至，献上微薄之祝。愿公身体健康，事业有成，如春花之绚烂，秋叶之静美。学生敬上。\n",
      "敬爱之师，新年至矣。愿吾师如春之始，百事皆新。身体健康，教诲如流，事业有成，幸福满溢。学生敬上。\n",
      "敬爱之师，新年至矣。愿吾师如春之风，秋之实，夏之阳，冬之雪，四季皆安，桃李满园。\n",
      "敬爱之师，新年至矣。愿吾师新年快乐，身体健康，万事如意，教书育人，事业有成。\n",
      "敬启者，新年将至，谨以此简短之祝词献予吾师。愿公健康长寿，事业有成，幸福满溢。学生恭祝新年快乐！\n"
     ]
    }
   ],
   "source": [
    "for i in range(5):\n",
    "    response = sample_sync_call('给我一个文言文风格的新年祝福，送给老师的，要求50个字以内。')\n",
    "    print(response)"
   ]
  },
  {
   "cell_type": "code",
   "execution_count": 35,
   "metadata": {},
   "outputs": [
    {
     "name": "stdout",
     "output_type": "stream",
     "text": [
      "🎉亲爱的同事们，一年的努力，感恩有你们相伴！🌟感谢你们的帮助和支持，让我们共同成长💪新的一年，愿我们继续携手前行，共创辉煌💫祝愿大家新年快乐，万事如意🎈🎊\n",
      "============\n",
      "感恩遇见你们这群棒棒哒同事一年啦！💖一起笑过、累过，成长的路上有你们真好。愿新年里，我们继续携手共进，追梦前行！🌟🎉🎊 #新年快乐 #感恩同事\n",
      "============\n",
      "亲爱的同事们，感恩你们一年来的陪伴和支持🎉今年我们一起经历了许多，一起笑过、累过、也成长过了 amigosForeverمع Booking Homie ossia sempre un'avventura meravigliosa！明年我们继续加油💪 futuro ci riserva sorprese fantastiche 🎉🌈\n",
      "============\n",
      "亲爱的同事们，一年的努力，共同奋斗，感谢你们的支持与陪伴😊。新的一年，愿我们继续携手前行，共创辉煌🌟！让我们一起迎接2023的到来，新年快乐🎉🎊！\n",
      "============\n",
      "🌟亲爱的同事们，感恩一路同行🌟\n",
      "在过去的一年里，我们一起笑过、累过、奋斗过。每一次并肩作战，都让我们的友谊更加深厚。新的一年，愿我们继续携手前行，共创辉煌！👏🎁🎉 #新年快乐 #感谢有你\n",
      "============\n"
     ]
    }
   ],
   "source": [
    "for i in range(5):\n",
    "    response = sample_sync_call('给我一个小红书风格的新年祝福，送给同事的，感谢同事一年一来的帮助，要求50个字以内，要有emoji表情。不要有标题')\n",
    "    print(response, end='\\n============\\n')"
   ]
  }
 ],
 "metadata": {
  "kernelspec": {
   "display_name": "nlp",
   "language": "python",
   "name": "nlp"
  },
  "language_info": {
   "codemirror_mode": {
    "name": "ipython",
    "version": 3
   },
   "file_extension": ".py",
   "mimetype": "text/x-python",
   "name": "python",
   "nbconvert_exporter": "python",
   "pygments_lexer": "ipython3",
   "version": "3.10.12"
  }
 },
 "nbformat": 4,
 "nbformat_minor": 2
}
